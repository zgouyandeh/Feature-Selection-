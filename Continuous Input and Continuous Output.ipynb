{
 "cells": [
  {
   "cell_type": "markdown",
   "metadata": {},
   "source": [
    "## Continuous Input and Continuous Output\n",
    "When the output variable is continuous in nature we can fit a predictive regression model. It becomes necessary to eliminate the redundant variables while fitting a regression model as it would cause problems such as overfitting. A parsimonious model gives good predictions.\n",
    "\n",
    "#### About the data: \n",
    "\n",
    "Consider the data set that concerns the hardening of cement. In particular, the researchers were interested in learning how the composition of the cement affected the heat evolved during the hardening of the cement. Therefore, they measured and recorded the following data on 13 batches of cement. Variables of this model were,\n",
    "1. Response y: Heat evolved in calories during hardening of cement on a per gram basis\n",
    "2. Predictor x1: % of tricalcium aluminate\n",
    "3. Predictor x2: % of tricalcium silicate\n",
    "4. Predictor x3: % of tetracalcium alumino ferrite\n",
    "5. Predictor x4: % of dicalcium silicate\n",
    "\n",
    "### a. Using pandas Pearson Correlation:\n",
    "\n",
    "Correlation Coefficient (r) is a measure of linear association between the response and input variable. The basic idea is that input variables with a closer relation give more information or in statistical terms the variability in the response variable can be better explained by the model which higher r value. The value of this measure lies between +1 and -1.\n",
    "- If the value is closer to +1 then it can be said there is a strong positive relation between response and input variable.\n",
    "- If the value is closer to -1 then it can be said there is a strong negative relation between response and input variable.\n",
    "- If the value is closer to 0 then it can be said there is a weak or no relation between response and input variable.\n"
   ]
  },
  {
   "cell_type": "code",
   "execution_count": 32,
   "metadata": {},
   "outputs": [],
   "source": [
    "import statsmodels.api as sm       \n",
    "from sklearn.linear_model import LinearRegression\n",
    "from sklearn.model_selection import train_test_split\n",
    "import sklearn.metrics as metrics\n",
    "from tabulate import tabulate\n",
    "from sklearn.feature_selection import SelectKBest\n",
    "from sklearn.feature_selection import f_regression"
   ]
  },
  {
   "cell_type": "code",
   "execution_count": 33,
   "metadata": {},
   "outputs": [
    {
     "data": {
      "application/javascript": [
       "\n",
       "        if (window._pyforest_update_imports_cell) { window._pyforest_update_imports_cell('import pandas as pd\\nimport numpy as np'); }\n",
       "    "
      ],
      "text/plain": [
       "<IPython.core.display.Javascript object>"
      ]
     },
     "metadata": {},
     "output_type": "display_data"
    }
   ],
   "source": [
    "cm = pd.read_excel('cement.xlsx')"
   ]
  },
  {
   "cell_type": "code",
   "execution_count": 20,
   "metadata": {},
   "outputs": [
    {
     "data": {
      "text/html": [
       "<div>\n",
       "<style scoped>\n",
       "    .dataframe tbody tr th:only-of-type {\n",
       "        vertical-align: middle;\n",
       "    }\n",
       "\n",
       "    .dataframe tbody tr th {\n",
       "        vertical-align: top;\n",
       "    }\n",
       "\n",
       "    .dataframe thead th {\n",
       "        text-align: right;\n",
       "    }\n",
       "</style>\n",
       "<table border=\"1\" class=\"dataframe\">\n",
       "  <thead>\n",
       "    <tr style=\"text-align: right;\">\n",
       "      <th></th>\n",
       "      <th>y</th>\n",
       "      <th>x1</th>\n",
       "      <th>x2</th>\n",
       "      <th>x3</th>\n",
       "      <th>x4</th>\n",
       "    </tr>\n",
       "  </thead>\n",
       "  <tbody>\n",
       "    <tr>\n",
       "      <th>0</th>\n",
       "      <td>78.5</td>\n",
       "      <td>7</td>\n",
       "      <td>26</td>\n",
       "      <td>6</td>\n",
       "      <td>60</td>\n",
       "    </tr>\n",
       "    <tr>\n",
       "      <th>1</th>\n",
       "      <td>74.3</td>\n",
       "      <td>1</td>\n",
       "      <td>29</td>\n",
       "      <td>15</td>\n",
       "      <td>52</td>\n",
       "    </tr>\n",
       "    <tr>\n",
       "      <th>2</th>\n",
       "      <td>104.3</td>\n",
       "      <td>11</td>\n",
       "      <td>56</td>\n",
       "      <td>8</td>\n",
       "      <td>20</td>\n",
       "    </tr>\n",
       "    <tr>\n",
       "      <th>3</th>\n",
       "      <td>87.6</td>\n",
       "      <td>11</td>\n",
       "      <td>31</td>\n",
       "      <td>8</td>\n",
       "      <td>47</td>\n",
       "    </tr>\n",
       "    <tr>\n",
       "      <th>4</th>\n",
       "      <td>95.9</td>\n",
       "      <td>7</td>\n",
       "      <td>52</td>\n",
       "      <td>6</td>\n",
       "      <td>33</td>\n",
       "    </tr>\n",
       "  </tbody>\n",
       "</table>\n",
       "</div>"
      ],
      "text/plain": [
       "       y  x1  x2  x3  x4\n",
       "0   78.5   7  26   6  60\n",
       "1   74.3   1  29  15  52\n",
       "2  104.3  11  56   8  20\n",
       "3   87.6  11  31   8  47\n",
       "4   95.9   7  52   6  33"
      ]
     },
     "execution_count": 20,
     "metadata": {},
     "output_type": "execute_result"
    }
   ],
   "source": [
    "cm.head()"
   ]
  },
  {
   "cell_type": "markdown",
   "metadata": {},
   "source": [
    "### Data Description"
   ]
  },
  {
   "cell_type": "code",
   "execution_count": 6,
   "metadata": {},
   "outputs": [
    {
     "name": "stdout",
     "output_type": "stream",
     "text": [
      "<class 'pandas.core.frame.DataFrame'>\n",
      "RangeIndex: 13 entries, 0 to 12\n",
      "Data columns (total 5 columns):\n",
      " #   Column  Non-Null Count  Dtype  \n",
      "---  ------  --------------  -----  \n",
      " 0   y       13 non-null     float64\n",
      " 1   x1      13 non-null     int64  \n",
      " 2   x2      13 non-null     int64  \n",
      " 3   x3      13 non-null     int64  \n",
      " 4   x4      13 non-null     int64  \n",
      "dtypes: float64(1), int64(4)\n",
      "memory usage: 648.0 bytes\n"
     ]
    }
   ],
   "source": [
    "cm.info()"
   ]
  },
  {
   "cell_type": "code",
   "execution_count": 7,
   "metadata": {},
   "outputs": [
    {
     "data": {
      "text/html": [
       "<div>\n",
       "<style scoped>\n",
       "    .dataframe tbody tr th:only-of-type {\n",
       "        vertical-align: middle;\n",
       "    }\n",
       "\n",
       "    .dataframe tbody tr th {\n",
       "        vertical-align: top;\n",
       "    }\n",
       "\n",
       "    .dataframe thead th {\n",
       "        text-align: right;\n",
       "    }\n",
       "</style>\n",
       "<table border=\"1\" class=\"dataframe\">\n",
       "  <thead>\n",
       "    <tr style=\"text-align: right;\">\n",
       "      <th></th>\n",
       "      <th>y</th>\n",
       "      <th>x1</th>\n",
       "      <th>x2</th>\n",
       "      <th>x3</th>\n",
       "      <th>x4</th>\n",
       "    </tr>\n",
       "  </thead>\n",
       "  <tbody>\n",
       "    <tr>\n",
       "      <th>count</th>\n",
       "      <td>13.000000</td>\n",
       "      <td>13.000000</td>\n",
       "      <td>13.000000</td>\n",
       "      <td>13.000000</td>\n",
       "      <td>13.00000</td>\n",
       "    </tr>\n",
       "    <tr>\n",
       "      <th>mean</th>\n",
       "      <td>95.423077</td>\n",
       "      <td>7.461538</td>\n",
       "      <td>48.153846</td>\n",
       "      <td>11.769231</td>\n",
       "      <td>30.00000</td>\n",
       "    </tr>\n",
       "    <tr>\n",
       "      <th>std</th>\n",
       "      <td>15.043723</td>\n",
       "      <td>5.882394</td>\n",
       "      <td>15.560881</td>\n",
       "      <td>6.405126</td>\n",
       "      <td>16.73818</td>\n",
       "    </tr>\n",
       "    <tr>\n",
       "      <th>min</th>\n",
       "      <td>72.500000</td>\n",
       "      <td>1.000000</td>\n",
       "      <td>26.000000</td>\n",
       "      <td>4.000000</td>\n",
       "      <td>6.00000</td>\n",
       "    </tr>\n",
       "    <tr>\n",
       "      <th>25%</th>\n",
       "      <td>83.800000</td>\n",
       "      <td>2.000000</td>\n",
       "      <td>31.000000</td>\n",
       "      <td>8.000000</td>\n",
       "      <td>20.00000</td>\n",
       "    </tr>\n",
       "    <tr>\n",
       "      <th>50%</th>\n",
       "      <td>95.900000</td>\n",
       "      <td>7.000000</td>\n",
       "      <td>52.000000</td>\n",
       "      <td>9.000000</td>\n",
       "      <td>26.00000</td>\n",
       "    </tr>\n",
       "    <tr>\n",
       "      <th>75%</th>\n",
       "      <td>109.200000</td>\n",
       "      <td>11.000000</td>\n",
       "      <td>56.000000</td>\n",
       "      <td>17.000000</td>\n",
       "      <td>44.00000</td>\n",
       "    </tr>\n",
       "    <tr>\n",
       "      <th>max</th>\n",
       "      <td>115.900000</td>\n",
       "      <td>21.000000</td>\n",
       "      <td>71.000000</td>\n",
       "      <td>23.000000</td>\n",
       "      <td>60.00000</td>\n",
       "    </tr>\n",
       "  </tbody>\n",
       "</table>\n",
       "</div>"
      ],
      "text/plain": [
       "                y         x1         x2         x3        x4\n",
       "count   13.000000  13.000000  13.000000  13.000000  13.00000\n",
       "mean    95.423077   7.461538  48.153846  11.769231  30.00000\n",
       "std     15.043723   5.882394  15.560881   6.405126  16.73818\n",
       "min     72.500000   1.000000  26.000000   4.000000   6.00000\n",
       "25%     83.800000   2.000000  31.000000   8.000000  20.00000\n",
       "50%     95.900000   7.000000  52.000000   9.000000  26.00000\n",
       "75%    109.200000  11.000000  56.000000  17.000000  44.00000\n",
       "max    115.900000  21.000000  71.000000  23.000000  60.00000"
      ]
     },
     "execution_count": 7,
     "metadata": {},
     "output_type": "execute_result"
    }
   ],
   "source": [
    "cm.describe()"
   ]
  },
  {
   "cell_type": "code",
   "execution_count": 8,
   "metadata": {},
   "outputs": [
    {
     "data": {
      "application/javascript": [
       "\n",
       "        if (window._pyforest_update_imports_cell) { window._pyforest_update_imports_cell('import seaborn as sns\\nimport pandas as pd'); }\n",
       "    "
      ],
      "text/plain": [
       "<IPython.core.display.Javascript object>"
      ]
     },
     "metadata": {},
     "output_type": "display_data"
    },
    {
     "data": {
      "text/plain": [
       "<seaborn.axisgrid.PairGrid at 0x1e1045b7a90>"
      ]
     },
     "execution_count": 8,
     "metadata": {},
     "output_type": "execute_result"
    },
    {
     "data": {
      "image/png": "[encoded data removed]",
      "text/plain": [
       "<Figure size 900x900 with 20 Axes>"
      ]
     },
     "metadata": {
      "needs_background": "light"
     },
     "output_type": "display_data"
    }
   ],
   "source": [
    "sns.pairplot(data = cm,corner = True)"
   ]
  },
  {
   "cell_type": "markdown",
   "metadata": {},
   "source": [
    "### Correlation"
   ]
  },
  {
   "cell_type": "code",
   "execution_count": 34,
   "metadata": {},
   "outputs": [
    {
     "data": {
      "text/html": [
       "<div>\n",
       "<style scoped>\n",
       "    .dataframe tbody tr th:only-of-type {\n",
       "        vertical-align: middle;\n",
       "    }\n",
       "\n",
       "    .dataframe tbody tr th {\n",
       "        vertical-align: top;\n",
       "    }\n",
       "\n",
       "    .dataframe thead th {\n",
       "        text-align: right;\n",
       "    }\n",
       "</style>\n",
       "<table border=\"1\" class=\"dataframe\">\n",
       "  <thead>\n",
       "    <tr style=\"text-align: right;\">\n",
       "      <th></th>\n",
       "      <th>y</th>\n",
       "      <th>x1</th>\n",
       "      <th>x2</th>\n",
       "      <th>x3</th>\n",
       "      <th>x4</th>\n",
       "    </tr>\n",
       "  </thead>\n",
       "  <tbody>\n",
       "    <tr>\n",
       "      <th>y</th>\n",
       "      <td>1.000000</td>\n",
       "      <td>0.730717</td>\n",
       "      <td>0.816253</td>\n",
       "      <td>-0.534671</td>\n",
       "      <td>-0.821305</td>\n",
       "    </tr>\n",
       "    <tr>\n",
       "      <th>x1</th>\n",
       "      <td>0.730717</td>\n",
       "      <td>1.000000</td>\n",
       "      <td>0.228579</td>\n",
       "      <td>-0.824134</td>\n",
       "      <td>-0.245445</td>\n",
       "    </tr>\n",
       "    <tr>\n",
       "      <th>x2</th>\n",
       "      <td>0.816253</td>\n",
       "      <td>0.228579</td>\n",
       "      <td>1.000000</td>\n",
       "      <td>-0.139242</td>\n",
       "      <td>-0.972955</td>\n",
       "    </tr>\n",
       "    <tr>\n",
       "      <th>x3</th>\n",
       "      <td>-0.534671</td>\n",
       "      <td>-0.824134</td>\n",
       "      <td>-0.139242</td>\n",
       "      <td>1.000000</td>\n",
       "      <td>0.029537</td>\n",
       "    </tr>\n",
       "    <tr>\n",
       "      <th>x4</th>\n",
       "      <td>-0.821305</td>\n",
       "      <td>-0.245445</td>\n",
       "      <td>-0.972955</td>\n",
       "      <td>0.029537</td>\n",
       "      <td>1.000000</td>\n",
       "    </tr>\n",
       "  </tbody>\n",
       "</table>\n",
       "</div>"
      ],
      "text/plain": [
       "           y        x1        x2        x3        x4\n",
       "y   1.000000  0.730717  0.816253 -0.534671 -0.821305\n",
       "x1  0.730717  1.000000  0.228579 -0.824134 -0.245445\n",
       "x2  0.816253  0.228579  1.000000 -0.139242 -0.972955\n",
       "x3 -0.534671 -0.824134 -0.139242  1.000000  0.029537\n",
       "x4 -0.821305 -0.245445 -0.972955  0.029537  1.000000"
      ]
     },
     "execution_count": 34,
     "metadata": {},
     "output_type": "execute_result"
    }
   ],
   "source": [
    "corr = cm.corr()\n",
    "corr"
   ]
  },
  {
   "cell_type": "code",
   "execution_count": 11,
   "metadata": {},
   "outputs": [
    {
     "data": {
      "application/javascript": [
       "\n",
       "        if (window._pyforest_update_imports_cell) { window._pyforest_update_imports_cell('import matplotlib.pyplot as plt\\nimport seaborn as sns\\nimport pandas as pd'); }\n",
       "    "
      ],
      "text/plain": [
       "<IPython.core.display.Javascript object>"
      ]
     },
     "metadata": {},
     "output_type": "display_data"
    },
    {
     "data": {
      "application/javascript": [
       "\n",
       "        if (window._pyforest_update_imports_cell) { window._pyforest_update_imports_cell('import matplotlib.pyplot as plt\\nimport seaborn as sns\\nimport pandas as pd'); }\n",
       "    "
      ],
      "text/plain": [
       "<IPython.core.display.Javascript object>"
      ]
     },
     "metadata": {},
     "output_type": "display_data"
    },
    {
     "data": {
      "application/javascript": [
       "\n",
       "        if (window._pyforest_update_imports_cell) { window._pyforest_update_imports_cell('import matplotlib.pyplot as plt\\nimport seaborn as sns\\nimport numpy as np\\nimport pandas as pd'); }\n",
       "    "
      ],
      "text/plain": [
       "<IPython.core.display.Javascript object>"
      ]
     },
     "metadata": {},
     "output_type": "display_data"
    },
    {
     "data": {
      "application/javascript": [
       "\n",
       "        if (window._pyforest_update_imports_cell) { window._pyforest_update_imports_cell('import matplotlib.pyplot as plt\\nimport seaborn as sns\\nimport numpy as np\\nimport pandas as pd'); }\n",
       "    "
      ],
      "text/plain": [
       "<IPython.core.display.Javascript object>"
      ]
     },
     "metadata": {},
     "output_type": "display_data"
    },
    {
     "data": {
      "application/javascript": [
       "\n",
       "        if (window._pyforest_update_imports_cell) { window._pyforest_update_imports_cell('import matplotlib.pyplot as plt\\nimport seaborn as sns\\nimport numpy as np\\nimport pandas as pd'); }\n",
       "    "
      ],
      "text/plain": [
       "<IPython.core.display.Javascript object>"
      ]
     },
     "metadata": {},
     "output_type": "display_data"
    },
    {
     "data": {
      "text/plain": [
       "<AxesSubplot:>"
      ]
     },
     "execution_count": 11,
     "metadata": {},
     "output_type": "execute_result"
    },
    {
     "data": {
      "image/png": "[encoded data removed]",
      "text/plain": [
       "<Figure size 720x576 with 2 Axes>"
      ]
     },
     "metadata": {
      "needs_background": "light"
     },
     "output_type": "display_data"
    }
   ],
   "source": [
    "fig, ax = plt.subplots(figsize=(10, 8))\n",
    "colormap = sns.diverging_palette(220, 10, as_cmap = True)\n",
    "dropvals = np.zeros_like(corr)\n",
    "dropvals[np.triu_indices_from(dropvals)] = True\n",
    "sns.heatmap(corr,cmap = colormap, linewidths = .5, annot = True, fmt = \".2f\", mask = dropvals)\n"
   ]
  },
  {
   "cell_type": "markdown",
   "metadata": {},
   "source": [
    "##  a.\tUsing pandas Pearson Correlation:\n",
    "### Selecting features with threshold as 0.5.\n",
    "The code here s used to eliminate all features that have correlation coefficent less than 0.5"
   ]
  },
  {
   "cell_type": "code",
   "execution_count": 15,
   "metadata": {},
   "outputs": [
    {
     "data": {
      "application/javascript": [
       "\n",
       "        if (window._pyforest_update_imports_cell) { window._pyforest_update_imports_cell('import pandas as pd\\nimport numpy as np'); }\n",
       "    "
      ],
      "text/plain": [
       "<IPython.core.display.Javascript object>"
      ]
     },
     "metadata": {},
     "output_type": "display_data"
    },
    {
     "data": {
      "text/html": [
       "<div>\n",
       "<style scoped>\n",
       "    .dataframe tbody tr th:only-of-type {\n",
       "        vertical-align: middle;\n",
       "    }\n",
       "\n",
       "    .dataframe tbody tr th {\n",
       "        vertical-align: top;\n",
       "    }\n",
       "\n",
       "    .dataframe thead th {\n",
       "        text-align: right;\n",
       "    }\n",
       "</style>\n",
       "<table border=\"1\" class=\"dataframe\">\n",
       "  <thead>\n",
       "    <tr style=\"text-align: right;\">\n",
       "      <th></th>\n",
       "      <th>y</th>\n",
       "      <th>x1</th>\n",
       "      <th>x2</th>\n",
       "      <th>x4</th>\n",
       "    </tr>\n",
       "  </thead>\n",
       "  <tbody>\n",
       "    <tr>\n",
       "      <th>0</th>\n",
       "      <td>78.5</td>\n",
       "      <td>7</td>\n",
       "      <td>26</td>\n",
       "      <td>60</td>\n",
       "    </tr>\n",
       "    <tr>\n",
       "      <th>1</th>\n",
       "      <td>74.3</td>\n",
       "      <td>1</td>\n",
       "      <td>29</td>\n",
       "      <td>52</td>\n",
       "    </tr>\n",
       "    <tr>\n",
       "      <th>2</th>\n",
       "      <td>104.3</td>\n",
       "      <td>11</td>\n",
       "      <td>56</td>\n",
       "      <td>20</td>\n",
       "    </tr>\n",
       "    <tr>\n",
       "      <th>3</th>\n",
       "      <td>87.6</td>\n",
       "      <td>11</td>\n",
       "      <td>31</td>\n",
       "      <td>47</td>\n",
       "    </tr>\n",
       "    <tr>\n",
       "      <th>4</th>\n",
       "      <td>95.9</td>\n",
       "      <td>7</td>\n",
       "      <td>52</td>\n",
       "      <td>33</td>\n",
       "    </tr>\n",
       "  </tbody>\n",
       "</table>\n",
       "</div>"
      ],
      "text/plain": [
       "       y  x1  x2  x4\n",
       "0   78.5   7  26  60\n",
       "1   74.3   1  29  52\n",
       "2  104.3  11  56  20\n",
       "3   87.6  11  31  47\n",
       "4   95.9   7  52  33"
      ]
     },
     "execution_count": 15,
     "metadata": {},
     "output_type": "execute_result"
    }
   ],
   "source": [
    "columns = np.full((corr.shape[0],), True, dtype=bool)\n",
    "for i in range(1):\n",
    "    for j in range(i+1, corr.shape[0]):\n",
    "        if abs(corr.iloc[i,j]) < 0.6:\n",
    "            if columns[j]:\n",
    "                columns[j] = False\n",
    "selected_columns = cm.columns[columns]\n",
    "selected_columns.shape\n",
    "\n",
    "new_cm = cm[selected_columns]\n",
    "new_cm.head()"
   ]
  },
  {
   "cell_type": "markdown",
   "metadata": {},
   "source": [
    "## b. Using f regression() function from scikit-learn machine library\n",
    "\n",
    "F_regression technique for feature selection in the sklearn feature selection module uses these principles:\n",
    "1. A regressor of interest and the response variable is orthogonalized while other regressors are held constant to reduce the multicollinearity.\n",
    "2. Correlation Coefficient is computed of this regressor of interest.\n",
    "3. This will be used in computing of the F - score and then the p-value which will be returned.\n",
    "\n",
    "Sklearn class selects features according to the k highest score. If there are more than one variables, the same is done considering one variable at a time.\n",
    "\n"
   ]
  },
  {
   "cell_type": "code",
   "execution_count": 7,
   "metadata": {},
   "outputs": [],
   "source": [
    "def featureSelection(X_train, y_train, X_test):\n",
    "    # configure to select all features\n",
    "    fs = SelectKBest(score_func=f_regression, k='all')\n",
    "    # learn relationship from training data\n",
    "    fs.fit(X_train, y_train)\n",
    "    # transform train input data\n",
    "    X_train_fs = fs.transform(X_train)\n",
    "    # transform test input data\n",
    "    X_test_fs = fs.transform(X_test)\n",
    "    return X_train_fs, X_test_fs, fs"
   ]
  },
  {
   "cell_type": "code",
   "execution_count": 9,
   "metadata": {},
   "outputs": [
    {
     "name": "stdout",
     "output_type": "stream",
     "text": [
      "Feature x1: 16.816191\n",
      "Feature x2: 17.049731\n",
      "Feature x3: 9.871595\n",
      "Feature x4: 20.187038\n"
     ]
    }
   ],
   "source": [
    "y = cm.iloc[:, 0]\n",
    "X = cm.iloc[:,1:]\n",
    "\n",
    "labels = ['x1','x2','x3','x4']\n",
    "\n",
    "#Training the model\n",
    "x_train, x_test, y_train, y_test = train_test_split(X,y, test_size = 0.2)\n",
    "\n",
    "# feature selection\n",
    "X_train_fs, X_test_fs, fs = featureSelection(x_train, y_train, x_test)\n",
    "\n",
    "#printing the f scores\n",
    "for i in range(len(fs.scores_)):\n",
    "    print('Feature %s: %f' % (labels[i], fs.scores_[i]))\n"
   ]
  },
  {
   "cell_type": "markdown",
   "metadata": {},
   "source": [
    "## Building a Regression Model\n",
    "First we split the dataset to train and test set. 20% of the data is used to create the test data and 80% to create the train data\n",
    "\n",
    "### Building the model with selected features"
   ]
  },
  {
   "cell_type": "code",
   "execution_count": 67,
   "metadata": {},
   "outputs": [
    {
     "name": "stdout",
     "output_type": "stream",
     "text": [
      "explained_variance:  0.9758\n",
      "mean_squared_log_error:  0.0005\n",
      "r2:  0.9612\n",
      "MAE:  2.2027\n",
      "MSE:  5.4078\n"
     ]
    },
    {
     "data": {
      "application/javascript": [
       "\n",
       "        if (window._pyforest_update_imports_cell) { window._pyforest_update_imports_cell('import pandas as pd\\nimport numpy as np'); }\n",
       "    "
      ],
      "text/plain": [
       "<IPython.core.display.Javascript object>"
      ]
     },
     "metadata": {},
     "output_type": "display_data"
    },
    {
     "name": "stdout",
     "output_type": "stream",
     "text": [
      "RMSE:  2.3255\n",
      "Adjusted R2:  0.9418\n"
     ]
    }
   ],
   "source": [
    "y = new_cm.iloc[:, 0]\n",
    "X = new_cm.iloc[:,1:]\n",
    "\n",
    "#Training the model\n",
    "x_train, x_test, y_train, y_test = train_test_split(X,y, test_size = 0.2)\n",
    "model = LinearRegression()\n",
    "model.fit(x_train,y_train)\n",
    "prediction = model.predict(x_test)\n",
    "model.score(x_test,y_test)\n",
    "\n",
    "#Getting Results\n",
    "def regression_results(y_true, y_pred):\n",
    "\n",
    "    # Regression metrics\n",
    "    explained_variance=metrics.explained_variance_score(y_true, y_pred)\n",
    "    mean_absolute_error=metrics.mean_absolute_error(y_true, y_pred) \n",
    "    mse=metrics.mean_squared_error(y_true, y_pred) \n",
    "    mean_squared_log_error=metrics.mean_squared_log_error(y_true, y_pred)\n",
    "    median_absolute_error=metrics.median_absolute_error(y_true, y_pred)\n",
    "    r2=metrics.r2_score(y_true, y_pred)\n",
    "    adj_r2 = 1 - ((1-r2)*(len(y_train)-1))/(len(y_train)-X.shape[1]-1)\n",
    "    \n",
    "    print('explained_variance: ', round(explained_variance,4))    \n",
    "    print('mean_squared_log_error: ', round(mean_squared_log_error,4))\n",
    "    print('r2: ', round(r2,4))\n",
    "    print('MAE: ', round(mean_absolute_error,4))\n",
    "    print('MSE: ', round(mse,4))\n",
    "    print('RMSE: ', round(np.sqrt(mse),4))\n",
    "    print('Adjusted R2: ',round(adj_r2,4))\n",
    "    \n",
    "    res1 = [round(explained_variance,3),round(mean_absolute_error,2),round(mse,2),round(mean_squared_log_error,2),round(median_absolute_error,2),round(r2,2),round(adj_r2,2)]\n",
    "    return res1\n",
    "result1 = regression_results(y_test,prediction)"
   ]
  },
  {
   "cell_type": "markdown",
   "metadata": {},
   "source": [
    "### Building the regression model with all features"
   ]
  },
  {
   "cell_type": "code",
   "execution_count": 77,
   "metadata": {},
   "outputs": [
    {
     "name": "stdout",
     "output_type": "stream",
     "text": [
      "explained_variance:  0.9495\n",
      "mean_squared_log_error:  0.0005\n",
      "r2:  0.9363\n",
      "MAE:  2.2735\n",
      "MSE:  5.4611\n"
     ]
    },
    {
     "data": {
      "application/javascript": [
       "\n",
       "        if (window._pyforest_update_imports_cell) { window._pyforest_update_imports_cell('import pandas as pd\\nimport numpy as np'); }\n",
       "    "
      ],
      "text/plain": [
       "<IPython.core.display.Javascript object>"
      ]
     },
     "metadata": {},
     "output_type": "display_data"
    },
    {
     "name": "stdout",
     "output_type": "stream",
     "text": [
      "RMSE:  2.3369\n",
      "Adjusted R2  0.89\n"
     ]
    },
    {
     "data": {
      "text/plain": [
       "[0.95, 2.27, 5.46, 0.0, 1.97, 0.94, 0.89]"
      ]
     },
     "execution_count": 77,
     "metadata": {},
     "output_type": "execute_result"
    }
   ],
   "source": [
    "y = cm.iloc[:, 0]\n",
    "X = cm.iloc[:,1:]\n",
    "\n",
    "#Training the Model\n",
    "x_train, x_test, y_train, y_test = train_test_split(X,y, test_size = 0.2)\n",
    "model = LinearRegression()\n",
    "model.fit(x_train,y_train)\n",
    "prediction = model.predict(x_test)\n",
    "model.score(x_test,y_test)\n",
    "\n",
    "#Getting Results\n",
    "def regression_results(y_true, y_pred):\n",
    "\n",
    "    # Regression metrics\n",
    "    explained_variance=metrics.explained_variance_score(y_true, y_pred)\n",
    "    mean_absolute_error=metrics.mean_absolute_error(y_true, y_pred) \n",
    "    mse=metrics.mean_squared_error(y_true, y_pred) \n",
    "    mean_squared_log_error=metrics.mean_squared_log_error(y_true, y_pred)\n",
    "    median_absolute_error=metrics.median_absolute_error(y_true, y_pred)\n",
    "    r2=metrics.r2_score(y_true, y_pred)\n",
    "    \n",
    "   # 1 – [(1-R2)*(n-1)/(n-k-1)]\n",
    "    adj_r2 = 1 - ((1-r2)*(len(y_train)-1))/(len(y_train)-X.shape[1]-1)\n",
    "\n",
    "    print('explained_variance: ', round(explained_variance,4))    \n",
    "    print('mean_squared_log_error: ', round(mean_squared_log_error,4))\n",
    "    print('r2: ', round(r2,4))\n",
    "    print('MAE: ', round(mean_absolute_error,4))\n",
    "    print('MSE: ', round(mse,4))\n",
    "    print('RMSE: ', round(np.sqrt(mse),4))\n",
    "    print('Adjusted R2 ',round(adj_r2,2))\n",
    "    res2 = [round(explained_variance,2),round(mean_absolute_error,2),round(mse,2),round(mean_squared_log_error,2),round(median_absolute_error,2),round(r2,2),round(adj_r2,2)]\n",
    "    return res2\n",
    "\n",
    "result2 = regression_results(y_test,prediction)\n",
    "result2"
   ]
  },
  {
   "cell_type": "code",
   "execution_count": 78,
   "metadata": {},
   "outputs": [
    {
     "name": "stdout",
     "output_type": "stream",
     "text": [
      " ------------------------------------------------------------------------------------- \n",
      "|                        |   Model With Selected Features |   Model With All Features |\n",
      "|------------------------|--------------------------------|---------------------------|\n",
      "| Explained Varinace     |                          0.976 |                      0.95 |\n",
      "| Mean Absolute Error    |                          2.2   |                      2.27 |\n",
      "| Mean Square Error      |                          5.41  |                      5.46 |\n",
      "| Median Absolute Error  |                          0     |                      0    |\n",
      "| Mean Squared Log Error |                          2.55  |                      1.97 |\n",
      "| R2                     |                          0.96  |                      0.94 |\n",
      "| Adjusted R2            |                          0.94  |                      0.89 |\n"
     ]
    }
   ],
   "source": [
    "print(\" ------------------------------------------------------------------------------------- \")\n",
    "print(tabulate({\"\" : [\"Explained Varinace\",\"Mean Absolute Error\",\"Mean Square Error\",\"Median Absolute Error\",\"Mean Squared Log Error\",\"R2\",\"Adjusted R2\"],\n",
    "                \"Model With Selected Features\" : [result1[0],result1[1],result1[2],result1[3],result1[4],result1[5],result1[6]],\n",
    "                \"Model With All Features\" : [result2[0],result2[1],result2[2],result2[3],result2[4],result2[5],result2[6]]\n",
    "        },headers = \"keys\",tablefmt = 'github'))"
   ]
  }
 ],
 "metadata": {
  "kernelspec": {
   "display_name": "Python 3",
   "language": "python",
   "name": "python3"
  },
  "language_info": {
   "codemirror_mode": {
    "name": "ipython",
    "version": 3
   },
   "file_extension": ".py",
   "mimetype": "text/x-python",
   "name": "python",
   "nbconvert_exporter": "python",
   "pygments_lexer": "ipython3",
   "version": "3.8.5"
  }
 },
 "nbformat": 4,
 "nbformat_minor": 4
}
